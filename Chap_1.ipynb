{
  "cells": [
    {
      "cell_type": "markdown",
      "metadata": {
        "id": "view-in-github",
        "colab_type": "text"
      },
      "source": [
        "<a href=\"https://colab.research.google.com/github/jackie-Gung/BigData_Study/blob/main/Chap_1.ipynb\" target=\"_parent\"><img src=\"https://colab.research.google.com/assets/colab-badge.svg\" alt=\"Open In Colab\"/></a>"
      ]
    },
    {
      "cell_type": "code",
      "execution_count": null,
      "id": "8d6e7d3a",
      "metadata": {
        "id": "8d6e7d3a"
      },
      "outputs": [],
      "source": [
        "# 1. 파이썬 프로그램 기본\n",
        "\n",
        "## 제어문\n",
        "## 1) if 문\n",
        "## 2) for 문\n",
        "## 3) while 문"
      ]
    },
    {
      "cell_type": "code",
      "execution_count": null,
      "id": "b76d2b31",
      "metadata": {
        "id": "b76d2b31",
        "outputId": "c2e56a9b-7c89-4593-a677-2932e0c8632a"
      },
      "outputs": [
        {
          "name": "stdout",
          "output_type": "stream",
          "text": [
            "What is your age: 22\n",
            "You can drive\n"
          ]
        }
      ],
      "source": [
        "## if 문\n",
        "\n",
        "age = int(input(\"What is your age: \"))\n",
        "if age < 18 :\n",
        "    print(\"You cannot drive\")\n",
        "else :\n",
        "    print(\"You can drive\")"
      ]
    },
    {
      "cell_type": "code",
      "execution_count": null,
      "id": "3b1e30f9",
      "metadata": {
        "id": "3b1e30f9",
        "outputId": "5cf27446-f8ec-4a1d-84a4-2d8acb4d38f9"
      },
      "outputs": [
        {
          "name": "stdout",
          "output_type": "stream",
          "text": [
            "입력하는 숫자가 6~20 사이 짝수인가? 18\n",
            "Yes\n"
          ]
        }
      ],
      "source": [
        "## if 문\n",
        "\n",
        "num = int(input(\"입력하는 숫자가 6~20 사이 짝수인가? \"))\n",
        "if num >= 6 and num <= 20 :\n",
        "    if num % 2 == 0 :\n",
        "        print(\"Yes\")\n",
        "    else :\n",
        "        print(\"No\")\n",
        "else :\n",
        "    print(\"No\")"
      ]
    },
    {
      "cell_type": "code",
      "execution_count": null,
      "id": "01256f37",
      "metadata": {
        "id": "01256f37",
        "outputId": "072ceefa-aead-47fd-83be-7c94428afd74"
      },
      "outputs": [
        {
          "name": "stdout",
          "output_type": "stream",
          "text": [
            "28\n"
          ]
        }
      ],
      "source": [
        "## for 문\n",
        "\n",
        "numbers = [1,2,3,4,5,6,7]\n",
        "sum = 0\n",
        "for n in numbers :\n",
        "    sum += n\n",
        "print(sum)"
      ]
    },
    {
      "cell_type": "code",
      "execution_count": null,
      "id": "c5e05122",
      "metadata": {
        "id": "c5e05122",
        "outputId": "48a7ead2-62f2-43d0-dee0-2ce1c9f2ac43"
      },
      "outputs": [
        {
          "name": "stdout",
          "output_type": "stream",
          "text": [
            "0 Jackie 22\n",
            "1 Amy 29\n",
            "2 Clare 57\n",
            "3 Danny 56\n"
          ]
        }
      ],
      "source": [
        "### 여러 list를 한번에 불러올 때 : enumerate & zip\n",
        "\n",
        "names = [\"Jackie\", \"Amy\", \"Clare\", \"Danny\"]\n",
        "ages = [22, 29, 57, 56]\n",
        "\n",
        "for i, (name, age) in enumerate(zip(names,ages)) :\n",
        "    print(i, name, age)"
      ]
    },
    {
      "cell_type": "code",
      "execution_count": null,
      "id": "d34bb5d8",
      "metadata": {
        "id": "d34bb5d8",
        "outputId": "66f9306c-cd8b-404b-ed80-3d785202ab82"
      },
      "outputs": [
        {
          "name": "stdout",
          "output_type": "stream",
          "text": [
            "Enter a number : 15\n",
            "120\n"
          ]
        }
      ],
      "source": [
        "## while 문\n",
        "\n",
        "num = int(input(\"Enter a number : \"))\n",
        "i = 1\n",
        "sum = 0\n",
        "while (i <= num) :\n",
        "    sum += i\n",
        "    i += 1\n",
        "print(sum)"
      ]
    },
    {
      "cell_type": "code",
      "execution_count": null,
      "id": "c6a7e99c",
      "metadata": {
        "id": "c6a7e99c",
        "outputId": "7d7edcb4-b119-48a8-e5aa-1ce50199710c"
      },
      "outputs": [
        {
          "name": "stdout",
          "output_type": "stream",
          "text": [
            "Enter a number : 24\n",
            "Enter a number : 56\n",
            "Enter a number : done\n",
            "80.0 2 40.0\n"
          ]
        }
      ],
      "source": [
        "## while문에서 done : if & try & except\n",
        "\n",
        "num = 0\n",
        "tot = 0.0\n",
        "\n",
        "while True :\n",
        "    sval = input(\"Enter a number : \")\n",
        "    if sval == \"done\" :\n",
        "        break\n",
        "    try :\n",
        "        fval = float(sval)\n",
        "    except :\n",
        "        print(\"Invalid input\")\n",
        "        continue\n",
        "    num += 1\n",
        "    tot += fval\n",
        "print(tot, num , tot/num)"
      ]
    },
    {
      "cell_type": "code",
      "execution_count": null,
      "id": "a5c48ec4",
      "metadata": {
        "id": "a5c48ec4",
        "outputId": "e631371f-e920-4975-9c48-cea08151fcd5"
      },
      "outputs": [
        {
          "name": "stdout",
          "output_type": "stream",
          "text": [
            "Hello\n",
            "World\n",
            "Done 124\n"
          ]
        }
      ],
      "source": [
        "astr = \"124\"\n",
        "try :\n",
        "    print(\"Hello\")\n",
        "    islnt = int(astr)\n",
        "    print(\"World\")\n",
        "except :\n",
        "    islnt = \"Integer로 변환할 수 없습니다.\"\n",
        "print(\"Done\", islnt)"
      ]
    },
    {
      "cell_type": "code",
      "execution_count": null,
      "id": "272095f0",
      "metadata": {
        "id": "272095f0"
      },
      "outputs": [],
      "source": [
        "## 2. Package\n",
        "### 1. numpy, pandas : numpy는 배열 데이터를, pandas는 데이터프레임 데이터 관리하는 패키지 -> 통계분석에 필수적인 패키지\n",
        "### 2. SKlearn, Tensorflow : 머신러닝을 위한 패키지 / SKlearn은 classification, regression, clustering, sufficient dimension 모델링 지원\n",
        "###                          Tensorflow는 구글에서 제공하는 머신러닝 및 딥러닝 개발을 위한 패키지\n",
        "### 3. matplotlilb ,seaborn : "
      ]
    },
    {
      "cell_type": "code",
      "source": [
        "## 3. 자료구조 "
      ],
      "metadata": {
        "id": "d3KdOdudiD-K"
      },
      "id": "d3KdOdudiD-K",
      "execution_count": null,
      "outputs": []
    },
    {
      "cell_type": "code",
      "execution_count": null,
      "id": "e78d2fa5",
      "metadata": {
        "id": "e78d2fa5",
        "outputId": "ae011edd-a772-4e7a-e1ef-143ef3650006"
      },
      "outputs": [
        {
          "name": "stdout",
          "output_type": "stream",
          "text": [
            "[1, 2, 3, 4, 5]\n",
            "1\n",
            "[1, 2]\n",
            "[1, 3]\n",
            "[2, 1]\n",
            "[4, 3, 2, 1]\n",
            "[3, 2, 1]\n"
          ]
        }
      ],
      "source": [
        "## list \n",
        "\n",
        "### list 생성 \n",
        "sample_list1 = [1,2,3,4,5]\n",
        "print(sample_list1)\n",
        "\n",
        "### Indexing & Slicing \n",
        "print(sample_list1[0])\n",
        "print(sample_list1[:-3])\n",
        "print(sample_list1[0:3:2])\n",
        "print(sample_list1[1::-1])\n",
        "print(sample_list1[3::-1])\n",
        "print(sample_list1[-3::-1])"
      ]
    },
    {
      "cell_type": "code",
      "execution_count": null,
      "id": "82ab19a1",
      "metadata": {
        "id": "82ab19a1",
        "outputId": "816c9289-1de6-4578-d172-57b86fab1caf"
      },
      "outputs": [
        {
          "name": "stdout",
          "output_type": "stream",
          "text": [
            "5\n",
            "[1, 2, 3, 4, 5, 6]\n",
            "[1, 2, 3, 1, 2, 3]\n"
          ]
        }
      ],
      "source": [
        "### list 연산 : +, *\n",
        "\n",
        "sample_list1 = [1,2,3,4,5]\n",
        "print(len(sample_list1))\n",
        "\n",
        "list1 = [1,2,3]\n",
        "list2 = [4,5,6]\n",
        "print(list1+list2)\n",
        "print(list1*2)"
      ]
    },
    {
      "cell_type": "code",
      "execution_count": null,
      "id": "5858938e",
      "metadata": {
        "id": "5858938e",
        "outputId": "3e6b645f-3dcb-4b08-e262-4716f71c32ff"
      },
      "outputs": [
        {
          "name": "stdout",
          "output_type": "stream",
          "text": [
            "[1, 2, 3, 4, 5, 9]\n",
            "[1, 2, 3, 4, 5, 9, 10]\n",
            "[1, 2, 3, 4, 5, 9]\n",
            "[1, 2, 3, 4, 5]\n",
            "[1, 2, 3, 4, 5, 6, 7, 8, 9, 10]\n",
            "[1, 2, 3, 4, 5, 6, 7, 8, 9, 10]\n",
            "[10, 9, 8, 7, 6, 5, 4, 3, 2, 1]\n",
            " sort : [1, 2, 3, 4, 5, 6, 7, 8, 9, 10]\n",
            "count : [1, 2, 3, 4, 5, 6, 7, 8, 9, 10]\n",
            "2\n",
            "[]\n"
          ]
        }
      ],
      "source": [
        "### list method : append, insert, remove, pop, extend, copy, reverse, sort, count, index, clear\n",
        "\n",
        "list = [1,2,3,4,5]\n",
        "list2 = [6,7,8,9,10]\n",
        "\n",
        "list.append(9)\n",
        "print(list)\n",
        "\n",
        "list.insert(6,10)\n",
        "print(list)\n",
        "\n",
        "list.remove(10)\n",
        "print(list)\n",
        "\n",
        "list.pop()\n",
        "print(list)\n",
        "\n",
        "list.extend(list2)\n",
        "print(list)\n",
        "\n",
        "list3 = list.copy()\n",
        "print(list3)\n",
        "\n",
        "list.reverse()\n",
        "print(list)\n",
        "\n",
        "list.sort()\n",
        "print(f' sort : {list}')\n",
        "\n",
        "list3.count(1)\n",
        "print(f'count : {list3}')\n",
        "\n",
        "print(list3.index(3))\n",
        "\n",
        "list3.clear()\n",
        "print(list3)"
      ]
    },
    {
      "cell_type": "code",
      "execution_count": null,
      "id": "ccbe5d63",
      "metadata": {
        "id": "ccbe5d63",
        "outputId": "f9804af1-0053-4295-871f-26859ac13154"
      },
      "outputs": [
        {
          "name": "stdout",
          "output_type": "stream",
          "text": [
            "[1 2 3 4 5]\n",
            "[[ 1  2  3  4  5]\n",
            " [ 6  7  8  9 10]]\n",
            "<class 'list'>\n",
            "<class 'numpy.ndarray'>\n",
            "[1 2]\n",
            "2\n",
            "[[ 1  2  3  4  5]\n",
            " [ 6  7  8  9 10]]\n",
            "[[2 3]\n",
            " [7 8]]\n",
            "int32\n"
          ]
        }
      ],
      "source": [
        "## array\n",
        "## array는 numpy에서 작성된 class이므로 np.array로 써야 한다\n",
        "\n",
        "import numpy as np\n",
        "\n",
        "### 1차원 배열\n",
        "array = np.array([1,2,3,4,5])\n",
        "print(array) # list와 다르게 ','가 뜨지 않는다\n",
        "\n",
        "### 2차원 배열\n",
        "array2 = np.array([\n",
        "    [1,2,3,4,5], \n",
        "    [6,7,8,9,10]])\n",
        "print(array2)\n",
        "\n",
        "### type difference between list & array\n",
        "print(type(list)) # list type\n",
        "print(type(array2)) # array type\n",
        "\n",
        "### index & slicing\n",
        "print(array[0:2])\n",
        "print(array2[0][1])\n",
        "print(array2[0:])\n",
        "print(array2[:, 1:3]) # (row, column) enter\n",
        "\n",
        "# array data type\n",
        "print(array2.dtype)"
      ]
    },
    {
      "cell_type": "code",
      "execution_count": null,
      "id": "1790f826",
      "metadata": {
        "id": "1790f826",
        "outputId": "2c135ad8-ea4d-480d-ec63-febe06b71958"
      },
      "outputs": [
        {
          "name": "stdout",
          "output_type": "stream",
          "text": [
            "[[  1   4   9  16  25]\n",
            " [ 36  49  64  81 100]]\n",
            "[[0 0 0 0 0]\n",
            " [0 0 0 0 0]]\n",
            "[[1.         0.5        0.33333333 0.25       0.2       ]\n",
            " [0.16666667 0.14285714 0.125      0.11111111 0.1       ]]\n"
          ]
        }
      ],
      "source": [
        "## array 속성\n",
        "\n",
        "print(array2 * array2)\n",
        "print(array2 - array2)\n",
        "print(1/array2)"
      ]
    },
    {
      "cell_type": "code",
      "execution_count": null,
      "id": "a761daab",
      "metadata": {
        "id": "a761daab",
        "outputId": "780915cb-b07d-4fe0-8bc9-18c398aba85b"
      },
      "outputs": [
        {
          "name": "stdout",
          "output_type": "stream",
          "text": [
            "   0  1  2\n",
            "0  1  2  3\n",
            "1  4  5  6\n",
            "2  7  8  9\n",
            "           age  height  weight gender\n",
            "Superman    20     183      77      M\n",
            "Spiderman   24     192      83      M\n",
            "Betman      48     175      65      F\n"
          ]
        },
        {
          "data": {
            "text/html": [
              "<div>\n",
              "<style scoped>\n",
              "    .dataframe tbody tr th:only-of-type {\n",
              "        vertical-align: middle;\n",
              "    }\n",
              "\n",
              "    .dataframe tbody tr th {\n",
              "        vertical-align: top;\n",
              "    }\n",
              "\n",
              "    .dataframe thead th {\n",
              "        text-align: right;\n",
              "    }\n",
              "</style>\n",
              "<table border=\"1\" class=\"dataframe\">\n",
              "  <thead>\n",
              "    <tr style=\"text-align: right;\">\n",
              "      <th></th>\n",
              "      <th>age</th>\n",
              "      <th>height</th>\n",
              "      <th>weight</th>\n",
              "      <th>gender</th>\n",
              "    </tr>\n",
              "  </thead>\n",
              "  <tbody>\n",
              "    <tr>\n",
              "      <th>Superman</th>\n",
              "      <td>20</td>\n",
              "      <td>183</td>\n",
              "      <td>77</td>\n",
              "      <td>M</td>\n",
              "    </tr>\n",
              "    <tr>\n",
              "      <th>Spiderman</th>\n",
              "      <td>24</td>\n",
              "      <td>192</td>\n",
              "      <td>83</td>\n",
              "      <td>M</td>\n",
              "    </tr>\n",
              "    <tr>\n",
              "      <th>Betman</th>\n",
              "      <td>48</td>\n",
              "      <td>175</td>\n",
              "      <td>65</td>\n",
              "      <td>F</td>\n",
              "    </tr>\n",
              "  </tbody>\n",
              "</table>\n",
              "</div>"
            ],
            "text/plain": [
              "           age  height  weight gender\n",
              "Superman    20     183      77      M\n",
              "Spiderman   24     192      83      M\n",
              "Betman      48     175      65      F"
            ]
          },
          "execution_count": 68,
          "metadata": {},
          "output_type": "execute_result"
        }
      ],
      "source": [
        "## DataFrame\n",
        "## pandas에 있는 class쓰는 것이므로 pd.DataFrame으로 써야 한다.\n",
        "\n",
        "### 1. 생성 \n",
        "import pandas as pd\n",
        "\n",
        "df = pd.DataFrame([[1,2,3],[4,5,6],[7,8,9]])\n",
        "print(df)\n",
        "\n",
        "### 2. dictionary 이용\n",
        "heros = {\n",
        "    'age' : [20,24,48],\n",
        "    'height' : [183,192,175],\n",
        "    'weight' : [77,83,65],\n",
        "    'gender' : [\"M\", \"M\",\"F\"]\n",
        "}\n",
        "name = [\"Superman\", \"Spiderman\", \"Betman\"]\n",
        "df2 = pd.DataFrame(heros, index = name)\n",
        "print(df2)\n",
        "df2 # 표처럼 출력됨"
      ]
    },
    {
      "cell_type": "code",
      "execution_count": null,
      "id": "00886973",
      "metadata": {
        "id": "00886973",
        "outputId": "5bc52c40-b4b0-4da1-804f-28591d0fd170"
      },
      "outputs": [
        {
          "data": {
            "text/html": [
              "<div>\n",
              "<style scoped>\n",
              "    .dataframe tbody tr th:only-of-type {\n",
              "        vertical-align: middle;\n",
              "    }\n",
              "\n",
              "    .dataframe tbody tr th {\n",
              "        vertical-align: top;\n",
              "    }\n",
              "\n",
              "    .dataframe thead th {\n",
              "        text-align: right;\n",
              "    }\n",
              "</style>\n",
              "<table border=\"1\" class=\"dataframe\">\n",
              "  <thead>\n",
              "    <tr style=\"text-align: right;\">\n",
              "      <th></th>\n",
              "      <th>0</th>\n",
              "      <th>1</th>\n",
              "      <th>2</th>\n",
              "    </tr>\n",
              "  </thead>\n",
              "  <tbody>\n",
              "    <tr>\n",
              "      <th>0</th>\n",
              "      <td>9</td>\n",
              "      <td>9</td>\n",
              "      <td>7</td>\n",
              "    </tr>\n",
              "    <tr>\n",
              "      <th>1</th>\n",
              "      <td>3</td>\n",
              "      <td>9</td>\n",
              "      <td>8</td>\n",
              "    </tr>\n",
              "    <tr>\n",
              "      <th>2</th>\n",
              "      <td>3</td>\n",
              "      <td>2</td>\n",
              "      <td>6</td>\n",
              "    </tr>\n",
              "  </tbody>\n",
              "</table>\n",
              "</div>"
            ],
            "text/plain": [
              "   0  1  2\n",
              "0  9  9  7\n",
              "1  3  9  8\n",
              "2  3  2  6"
            ]
          },
          "execution_count": 79,
          "metadata": {},
          "output_type": "execute_result"
        }
      ],
      "source": [
        "### 난수를 이용한 dataframe : random.seed / random.randint\n",
        "\n",
        "import numpy as np\n",
        "import pandas as pd\n",
        "\n",
        "np.random.seed(2) # 매번 돌려도 같은 값이 나오게 함. seed() 설정 안하면 돌릴때마다 다른 값 나옴\n",
        "df = pd.DataFrame(np.random.randint(1,10,(3,3)))\n",
        "df"
      ]
    },
    {
      "cell_type": "code",
      "execution_count": null,
      "id": "e823570a",
      "metadata": {
        "id": "e823570a",
        "outputId": "3ad77ce9-ba3d-4bdb-b481-396c7fc90845"
      },
      "outputs": [
        {
          "data": {
            "text/html": [
              "<div>\n",
              "<style scoped>\n",
              "    .dataframe tbody tr th:only-of-type {\n",
              "        vertical-align: middle;\n",
              "    }\n",
              "\n",
              "    .dataframe tbody tr th {\n",
              "        vertical-align: top;\n",
              "    }\n",
              "\n",
              "    .dataframe thead th {\n",
              "        text-align: right;\n",
              "    }\n",
              "</style>\n",
              "<table border=\"1\" class=\"dataframe\">\n",
              "  <thead>\n",
              "    <tr style=\"text-align: right;\">\n",
              "      <th></th>\n",
              "      <th>A</th>\n",
              "      <th>B</th>\n",
              "      <th>C</th>\n",
              "      <th>D</th>\n",
              "      <th>E</th>\n",
              "    </tr>\n",
              "  </thead>\n",
              "  <tbody>\n",
              "    <tr>\n",
              "      <th>a</th>\n",
              "      <td>13</td>\n",
              "      <td>20</td>\n",
              "      <td>20</td>\n",
              "      <td>19</td>\n",
              "      <td>14</td>\n",
              "    </tr>\n",
              "    <tr>\n",
              "      <th>b</th>\n",
              "      <td>21</td>\n",
              "      <td>16</td>\n",
              "      <td>17</td>\n",
              "      <td>12</td>\n",
              "      <td>10</td>\n",
              "    </tr>\n",
              "    <tr>\n",
              "      <th>c</th>\n",
              "      <td>16</td>\n",
              "      <td>18</td>\n",
              "      <td>15</td>\n",
              "      <td>20</td>\n",
              "      <td>20</td>\n",
              "    </tr>\n",
              "    <tr>\n",
              "      <th>d</th>\n",
              "      <td>21</td>\n",
              "      <td>13</td>\n",
              "      <td>10</td>\n",
              "      <td>16</td>\n",
              "      <td>16</td>\n",
              "    </tr>\n",
              "  </tbody>\n",
              "</table>\n",
              "</div>"
            ],
            "text/plain": [
              "    A   B   C   D   E\n",
              "a  13  20  20  19  14\n",
              "b  21  16  17  12  10\n",
              "c  16  18  15  20  20\n",
              "d  21  13  10  16  16"
            ]
          },
          "execution_count": 85,
          "metadata": {},
          "output_type": "execute_result"
        }
      ],
      "source": [
        "np.random.seed(2022)\n",
        "df = pd.DataFrame(np.random.randint(10,22,(4,5)),\n",
        "                 index = ['a','b','c','d'],\n",
        "                 columns = ['A','B','C','D','E'])\n",
        "df"
      ]
    },
    {
      "cell_type": "code",
      "execution_count": null,
      "id": "0f8772ad",
      "metadata": {
        "id": "0f8772ad",
        "outputId": "ed09124d-da4a-407d-8e84-32e99faea40d"
      },
      "outputs": [
        {
          "name": "stdout",
          "output_type": "stream",
          "text": [
            "    A   B   C   D   E\n",
            "a  13  20  20  19  14\n",
            "b  21  16  17  12  10\n",
            "c  16  18  15  20  20\n",
            "d  21  13  10  16  16\n",
            "<class 'pandas.core.frame.DataFrame'>\n",
            "Index: 4 entries, a to d\n",
            "Data columns (total 5 columns):\n",
            " #   Column  Non-Null Count  Dtype\n",
            "---  ------  --------------  -----\n",
            " 0   A       4 non-null      int32\n",
            " 1   B       4 non-null      int32\n",
            " 2   C       4 non-null      int32\n",
            " 3   D       4 non-null      int32\n",
            " 4   E       4 non-null      int32\n",
            "dtypes: int32(5)\n",
            "memory usage: 112.0+ bytes\n",
            "None\n",
            "(4, 5)\n"
          ]
        }
      ],
      "source": [
        "print(df.head(4))\n",
        "print(df.info())\n",
        "print(df.shape)"
      ]
    },
    {
      "cell_type": "code",
      "execution_count": null,
      "id": "568c90d6",
      "metadata": {
        "id": "568c90d6",
        "outputId": "7b69b7ab-0e59-4a41-d83a-a0987f75b61c"
      },
      "outputs": [
        {
          "name": "stdout",
          "output_type": "stream",
          "text": [
            "a    13\n",
            "b    21\n",
            "c    16\n",
            "d    21\n",
            "Name: A, dtype: int32\n",
            "    A   B   C   D   E\n",
            "b  21  16  17  12  10\n",
            "c  16  18  15  20  20\n",
            "d  21  13  10  16  16\n",
            "    A   B   C   D   E\n",
            "b  21  16  17  12  10\n",
            "c  16  18  15  20  20\n",
            "d  21  13  10  16  16\n"
          ]
        }
      ],
      "source": [
        "# df[] : []안에 column명만 가능. row명 쓰면 error\n",
        "df['A']\n",
        "df[['A','B']]\n",
        "\n",
        "# df. : column 추출\n",
        "print(df.A)\n",
        "print(df[df['A']>15])\n",
        "print(df[(df['A']>15) | (df['B'] < 16)])"
      ]
    },
    {
      "cell_type": "code",
      "execution_count": null,
      "id": "ee985fbe",
      "metadata": {
        "id": "ee985fbe",
        "outputId": "612d0a91-cdf1-4d1d-b035-c4aa4214a792"
      },
      "outputs": [
        {
          "name": "stdout",
          "output_type": "stream",
          "text": [
            "Empty DataFrame\n",
            "Columns: [A, B, C, D, E]\n",
            "Index: []\n",
            "    A   B   C   D   E\n",
            "b  21  16  17  12  10\n",
            "    A   B   C   D   E\n",
            "b  21  16  17  12  10\n",
            "c  16  18  15  20  20\n",
            "d  21  13  10  16  16\n"
          ]
        }
      ],
      "source": [
        "# df.query() : data 추출하는 함수\n",
        "\n",
        "print(df.query('index == 0'))\n",
        "print(df.query('C == 17'))\n",
        "print(df.query('A == 21 | D == 20'))"
      ]
    },
    {
      "cell_type": "code",
      "execution_count": null,
      "id": "339e284d",
      "metadata": {
        "id": "339e284d",
        "outputId": "c52e3632-b7a4-4528-9656-3deca9ee0681"
      },
      "outputs": [
        {
          "data": {
            "text/html": [
              "<div>\n",
              "<style scoped>\n",
              "    .dataframe tbody tr th:only-of-type {\n",
              "        vertical-align: middle;\n",
              "    }\n",
              "\n",
              "    .dataframe tbody tr th {\n",
              "        vertical-align: top;\n",
              "    }\n",
              "\n",
              "    .dataframe thead th {\n",
              "        text-align: right;\n",
              "    }\n",
              "</style>\n",
              "<table border=\"1\" class=\"dataframe\">\n",
              "  <thead>\n",
              "    <tr style=\"text-align: right;\">\n",
              "      <th></th>\n",
              "      <th>B</th>\n",
              "      <th>C</th>\n",
              "      <th>D</th>\n",
              "      <th>E</th>\n",
              "    </tr>\n",
              "  </thead>\n",
              "  <tbody>\n",
              "    <tr>\n",
              "      <th>a</th>\n",
              "      <td>20</td>\n",
              "      <td>20</td>\n",
              "      <td>19</td>\n",
              "      <td>14</td>\n",
              "    </tr>\n",
              "    <tr>\n",
              "      <th>b</th>\n",
              "      <td>16</td>\n",
              "      <td>17</td>\n",
              "      <td>12</td>\n",
              "      <td>10</td>\n",
              "    </tr>\n",
              "    <tr>\n",
              "      <th>c</th>\n",
              "      <td>18</td>\n",
              "      <td>15</td>\n",
              "      <td>20</td>\n",
              "      <td>20</td>\n",
              "    </tr>\n",
              "    <tr>\n",
              "      <th>d</th>\n",
              "      <td>13</td>\n",
              "      <td>10</td>\n",
              "      <td>16</td>\n",
              "      <td>16</td>\n",
              "    </tr>\n",
              "  </tbody>\n",
              "</table>\n",
              "</div>"
            ],
            "text/plain": [
              "    B   C   D   E\n",
              "a  20  20  19  14\n",
              "b  16  17  12  10\n",
              "c  18  15  20  20\n",
              "d  13  10  16  16"
            ]
          },
          "execution_count": 113,
          "metadata": {},
          "output_type": "execute_result"
        }
      ],
      "source": [
        "# df. drop() : 지정한 열을 제외한 데이터 추출\n",
        "df.drop(\"A\",axis=1) # axis에 1 외 다른 숫자 넣으면 error"
      ]
    },
    {
      "cell_type": "code",
      "execution_count": null,
      "id": "6a1ed8d4",
      "metadata": {
        "id": "6a1ed8d4",
        "outputId": "5586d734-c5cc-4b90-c68e-f2a7cd5735ce"
      },
      "outputs": [
        {
          "name": "stdout",
          "output_type": "stream",
          "text": [
            "A    13\n",
            "B    20\n",
            "C    20\n",
            "D    19\n",
            "E    14\n",
            "Name: a, dtype: int32\n",
            "    A   B   C   D   E\n",
            "a  13  20  20  19  14\n",
            "b  21  16  17  12  10\n",
            "c  16  18  15  20  20\n",
            "    A   B   C   D   E\n",
            "b  21  16  17  12  10\n",
            "c  16  18  15  20  20\n",
            "d  21  13  10  16  16\n",
            "    A   B   C   D   E\n",
            "a  13  20  20  19  14\n",
            "b  21  16  17  12  10\n",
            "c  16  18  15  20  20\n",
            "d  21  13  10  16  16\n",
            "A    21\n",
            "B    13\n",
            "C    10\n",
            "D    16\n",
            "E    16\n",
            "Name: d, dtype: int32\n"
          ]
        }
      ],
      "source": [
        "# df.loc[] : [행 index] or [row index, columb index]\n",
        "# 대신에 loc[]은 index 값으로 string을 대입해야 하는듯\n",
        "\n",
        "print(df.loc[\"a\"])\n",
        "print(df.loc[\"a\":\"c\"])\n",
        "print(df.loc[df.A>15])\n",
        "\n",
        "# df.iloc[] : only integer available for row\n",
        "\n",
        "print(df)\n",
        "print(df.iloc[-1])"
      ]
    },
    {
      "cell_type": "code",
      "execution_count": null,
      "id": "7a3133f0",
      "metadata": {
        "id": "7a3133f0",
        "outputId": "b25dfa8c-db4a-40d8-da06-3490bd72cde6"
      },
      "outputs": [
        {
          "name": "stdout",
          "output_type": "stream",
          "text": [
            "    A   B   C   D   E\n",
            "a  13  20  20  19  14\n",
            "b  21  16  17  12  10\n",
            "c  16  18  15  20  20\n",
            "d  21  13  10  16  16\n",
            "    A   B   C   D   E\n",
            "a  13  20  20  19  14\n",
            "b  21  16  17  12  10\n",
            "c  16  18  15  20  20\n",
            "d  21  13  10  16  16\n",
            "[Index(['a', 'b', 'c', 'd'], dtype='object'), Index(['A', 'B', 'C', 'D', 'E'], dtype='object')]\n",
            "Index(['a', 'b', 'c', 'd'], dtype='object')\n",
            "Index(['A', 'B', 'C', 'D', 'E'], dtype='object')\n",
            "2\n",
            "[[13 20 20 19 14]\n",
            " [21 16 17 12 10]\n",
            " [16 18 15 20 20]\n",
            " [21 13 10 16 16]]\n",
            "(4, 5)\n",
            "<bound method DataFrame.count of     A   B   C   D   E\n",
            "a  13  20  20  19  14\n",
            "b  21  16  17  12  10\n",
            "c  16  18  15  20  20\n",
            "d  21  13  10  16  16>\n"
          ]
        }
      ],
      "source": [
        "### data 속성 : info, headm tail, axes, index, columns, values, ndim, shape, size, dtypes, count\n",
        "\n",
        "print(df.head())\n",
        "print(df.tail())\n",
        "print(df.axes)\n",
        "print(df.index)\n",
        "print(df.columns)\n",
        "print(df.ndim)\n",
        "print(df.values) # numpy형식으로 변환\n",
        "print(df.shape) # (row,column)\n",
        "print(df.count)"
      ]
    },
    {
      "cell_type": "code",
      "execution_count": null,
      "id": "a656d2bf",
      "metadata": {
        "id": "a656d2bf"
      },
      "outputs": [],
      "source": [
        "# 4. 파일을 읽어들이는 방법"
      ]
    },
    {
      "cell_type": "code",
      "source": [
        "## csv 파일 입력\n",
        "### pd.read_csv('sample.csv')\n",
        "### df.to_csv('sample3.csv')"
      ],
      "metadata": {
        "id": "gMadJIP7ixfD"
      },
      "id": "gMadJIP7ixfD",
      "execution_count": 2,
      "outputs": []
    },
    {
      "cell_type": "code",
      "source": [
        "## 인터넷 상의 csv 파일 입력\n",
        "import pandas as pd\n",
        "math = pd.read_csv(\"http://home.ewha.ac.kr/~josong/dm/mathcat.data\", sep = '\\s+')\n",
        "print(math.head(n=4))\n",
        "print(math.tail(n=4))"
      ],
      "metadata": {
        "colab": {
          "base_uri": "https://localhost:8080/"
        },
        "id": "WBC9vnEojPGh",
        "outputId": "4a5d321b-e5de-4e4d-cb81-3d54ff724300"
      },
      "id": "WBC9vnEojPGh",
      "execution_count": 5,
      "outputs": [
        {
          "output_type": "stream",
          "name": "stdout",
          "text": [
            "   hsgpa  hsengl hscalc    course passed outcome\n",
            "1   78.0      80    Yes  Mainstrm     No  Failed\n",
            "2   66.0      75    Yes  Mainstrm    Yes  Passed\n",
            "3   80.2      70    Yes  Mainstrm    Yes  Passed\n",
            "4   81.7      67    Yes  Mainstrm    Yes  Passed\n",
            "     hsgpa  hsengl hscalc    course passed outcome\n",
            "391   77.0      79    Yes  Mainstrm    Yes  Passed\n",
            "392   80.7      70    Yes  Mainstrm    Yes  Passed\n",
            "393   80.7      81    Yes  Mainstrm    Yes  Passed\n",
            "394   82.2      86    Yes  Catch-up    Yes  Passed\n"
          ]
        }
      ]
    },
    {
      "cell_type": "code",
      "source": [
        "pd.set_option(\"display.max.row\", 20) # 앞뒤로 모두 20행만 보여줌\n",
        "pd.set_option(\"display.max.column\", None) # 모든 컬럼을 다 보여줌\n",
        "math"
      ],
      "metadata": {
        "colab": {
          "base_uri": "https://localhost:8080/",
          "height": 423
        },
        "id": "dEw4KcbIjx9X",
        "outputId": "3d5e3c8a-b089-42c9-e0d6-15c57fdd1ba3"
      },
      "id": "dEw4KcbIjx9X",
      "execution_count": 6,
      "outputs": [
        {
          "output_type": "execute_result",
          "data": {
            "text/plain": [
              "     hsgpa  hsengl hscalc    course passed outcome\n",
              "1     78.0      80    Yes  Mainstrm     No  Failed\n",
              "2     66.0      75    Yes  Mainstrm    Yes  Passed\n",
              "3     80.2      70    Yes  Mainstrm    Yes  Passed\n",
              "4     81.7      67    Yes  Mainstrm    Yes  Passed\n",
              "5     86.8      80    Yes  Mainstrm    Yes  Passed\n",
              "..     ...     ...    ...       ...    ...     ...\n",
              "390   88.3      90    Yes  Mainstrm    Yes  Passed\n",
              "391   77.0      79    Yes  Mainstrm    Yes  Passed\n",
              "392   80.7      70    Yes  Mainstrm    Yes  Passed\n",
              "393   80.7      81    Yes  Mainstrm    Yes  Passed\n",
              "394   82.2      86    Yes  Catch-up    Yes  Passed\n",
              "\n",
              "[394 rows x 6 columns]"
            ],
            "text/html": [
              "\n",
              "  <div id=\"df-68a6635d-afac-4bed-9cfd-0c9ecd2c033e\">\n",
              "    <div class=\"colab-df-container\">\n",
              "      <div>\n",
              "<style scoped>\n",
              "    .dataframe tbody tr th:only-of-type {\n",
              "        vertical-align: middle;\n",
              "    }\n",
              "\n",
              "    .dataframe tbody tr th {\n",
              "        vertical-align: top;\n",
              "    }\n",
              "\n",
              "    .dataframe thead th {\n",
              "        text-align: right;\n",
              "    }\n",
              "</style>\n",
              "<table border=\"1\" class=\"dataframe\">\n",
              "  <thead>\n",
              "    <tr style=\"text-align: right;\">\n",
              "      <th></th>\n",
              "      <th>hsgpa</th>\n",
              "      <th>hsengl</th>\n",
              "      <th>hscalc</th>\n",
              "      <th>course</th>\n",
              "      <th>passed</th>\n",
              "      <th>outcome</th>\n",
              "    </tr>\n",
              "  </thead>\n",
              "  <tbody>\n",
              "    <tr>\n",
              "      <th>1</th>\n",
              "      <td>78.0</td>\n",
              "      <td>80</td>\n",
              "      <td>Yes</td>\n",
              "      <td>Mainstrm</td>\n",
              "      <td>No</td>\n",
              "      <td>Failed</td>\n",
              "    </tr>\n",
              "    <tr>\n",
              "      <th>2</th>\n",
              "      <td>66.0</td>\n",
              "      <td>75</td>\n",
              "      <td>Yes</td>\n",
              "      <td>Mainstrm</td>\n",
              "      <td>Yes</td>\n",
              "      <td>Passed</td>\n",
              "    </tr>\n",
              "    <tr>\n",
              "      <th>3</th>\n",
              "      <td>80.2</td>\n",
              "      <td>70</td>\n",
              "      <td>Yes</td>\n",
              "      <td>Mainstrm</td>\n",
              "      <td>Yes</td>\n",
              "      <td>Passed</td>\n",
              "    </tr>\n",
              "    <tr>\n",
              "      <th>4</th>\n",
              "      <td>81.7</td>\n",
              "      <td>67</td>\n",
              "      <td>Yes</td>\n",
              "      <td>Mainstrm</td>\n",
              "      <td>Yes</td>\n",
              "      <td>Passed</td>\n",
              "    </tr>\n",
              "    <tr>\n",
              "      <th>5</th>\n",
              "      <td>86.8</td>\n",
              "      <td>80</td>\n",
              "      <td>Yes</td>\n",
              "      <td>Mainstrm</td>\n",
              "      <td>Yes</td>\n",
              "      <td>Passed</td>\n",
              "    </tr>\n",
              "    <tr>\n",
              "      <th>...</th>\n",
              "      <td>...</td>\n",
              "      <td>...</td>\n",
              "      <td>...</td>\n",
              "      <td>...</td>\n",
              "      <td>...</td>\n",
              "      <td>...</td>\n",
              "    </tr>\n",
              "    <tr>\n",
              "      <th>390</th>\n",
              "      <td>88.3</td>\n",
              "      <td>90</td>\n",
              "      <td>Yes</td>\n",
              "      <td>Mainstrm</td>\n",
              "      <td>Yes</td>\n",
              "      <td>Passed</td>\n",
              "    </tr>\n",
              "    <tr>\n",
              "      <th>391</th>\n",
              "      <td>77.0</td>\n",
              "      <td>79</td>\n",
              "      <td>Yes</td>\n",
              "      <td>Mainstrm</td>\n",
              "      <td>Yes</td>\n",
              "      <td>Passed</td>\n",
              "    </tr>\n",
              "    <tr>\n",
              "      <th>392</th>\n",
              "      <td>80.7</td>\n",
              "      <td>70</td>\n",
              "      <td>Yes</td>\n",
              "      <td>Mainstrm</td>\n",
              "      <td>Yes</td>\n",
              "      <td>Passed</td>\n",
              "    </tr>\n",
              "    <tr>\n",
              "      <th>393</th>\n",
              "      <td>80.7</td>\n",
              "      <td>81</td>\n",
              "      <td>Yes</td>\n",
              "      <td>Mainstrm</td>\n",
              "      <td>Yes</td>\n",
              "      <td>Passed</td>\n",
              "    </tr>\n",
              "    <tr>\n",
              "      <th>394</th>\n",
              "      <td>82.2</td>\n",
              "      <td>86</td>\n",
              "      <td>Yes</td>\n",
              "      <td>Catch-up</td>\n",
              "      <td>Yes</td>\n",
              "      <td>Passed</td>\n",
              "    </tr>\n",
              "  </tbody>\n",
              "</table>\n",
              "<p>394 rows × 6 columns</p>\n",
              "</div>\n",
              "      <button class=\"colab-df-convert\" onclick=\"convertToInteractive('df-68a6635d-afac-4bed-9cfd-0c9ecd2c033e')\"\n",
              "              title=\"Convert this dataframe to an interactive table.\"\n",
              "              style=\"display:none;\">\n",
              "        \n",
              "  <svg xmlns=\"http://www.w3.org/2000/svg\" height=\"24px\"viewBox=\"0 0 24 24\"\n",
              "       width=\"24px\">\n",
              "    <path d=\"M0 0h24v24H0V0z\" fill=\"none\"/>\n",
              "    <path d=\"M18.56 5.44l.94 2.06.94-2.06 2.06-.94-2.06-.94-.94-2.06-.94 2.06-2.06.94zm-11 1L8.5 8.5l.94-2.06 2.06-.94-2.06-.94L8.5 2.5l-.94 2.06-2.06.94zm10 10l.94 2.06.94-2.06 2.06-.94-2.06-.94-.94-2.06-.94 2.06-2.06.94z\"/><path d=\"M17.41 7.96l-1.37-1.37c-.4-.4-.92-.59-1.43-.59-.52 0-1.04.2-1.43.59L10.3 9.45l-7.72 7.72c-.78.78-.78 2.05 0 2.83L4 21.41c.39.39.9.59 1.41.59.51 0 1.02-.2 1.41-.59l7.78-7.78 2.81-2.81c.8-.78.8-2.07 0-2.86zM5.41 20L4 18.59l7.72-7.72 1.47 1.35L5.41 20z\"/>\n",
              "  </svg>\n",
              "      </button>\n",
              "      \n",
              "  <style>\n",
              "    .colab-df-container {\n",
              "      display:flex;\n",
              "      flex-wrap:wrap;\n",
              "      gap: 12px;\n",
              "    }\n",
              "\n",
              "    .colab-df-convert {\n",
              "      background-color: #E8F0FE;\n",
              "      border: none;\n",
              "      border-radius: 50%;\n",
              "      cursor: pointer;\n",
              "      display: none;\n",
              "      fill: #1967D2;\n",
              "      height: 32px;\n",
              "      padding: 0 0 0 0;\n",
              "      width: 32px;\n",
              "    }\n",
              "\n",
              "    .colab-df-convert:hover {\n",
              "      background-color: #E2EBFA;\n",
              "      box-shadow: 0px 1px 2px rgba(60, 64, 67, 0.3), 0px 1px 3px 1px rgba(60, 64, 67, 0.15);\n",
              "      fill: #174EA6;\n",
              "    }\n",
              "\n",
              "    [theme=dark] .colab-df-convert {\n",
              "      background-color: #3B4455;\n",
              "      fill: #D2E3FC;\n",
              "    }\n",
              "\n",
              "    [theme=dark] .colab-df-convert:hover {\n",
              "      background-color: #434B5C;\n",
              "      box-shadow: 0px 1px 3px 1px rgba(0, 0, 0, 0.15);\n",
              "      filter: drop-shadow(0px 1px 2px rgba(0, 0, 0, 0.3));\n",
              "      fill: #FFFFFF;\n",
              "    }\n",
              "  </style>\n",
              "\n",
              "      <script>\n",
              "        const buttonEl =\n",
              "          document.querySelector('#df-68a6635d-afac-4bed-9cfd-0c9ecd2c033e button.colab-df-convert');\n",
              "        buttonEl.style.display =\n",
              "          google.colab.kernel.accessAllowed ? 'block' : 'none';\n",
              "\n",
              "        async function convertToInteractive(key) {\n",
              "          const element = document.querySelector('#df-68a6635d-afac-4bed-9cfd-0c9ecd2c033e');\n",
              "          const dataTable =\n",
              "            await google.colab.kernel.invokeFunction('convertToInteractive',\n",
              "                                                     [key], {});\n",
              "          if (!dataTable) return;\n",
              "\n",
              "          const docLinkHtml = 'Like what you see? Visit the ' +\n",
              "            '<a target=\"_blank\" href=https://colab.research.google.com/notebooks/data_table.ipynb>data table notebook</a>'\n",
              "            + ' to learn more about interactive tables.';\n",
              "          element.innerHTML = '';\n",
              "          dataTable['output_type'] = 'display_data';\n",
              "          await google.colab.output.renderOutput(dataTable, element);\n",
              "          const docLink = document.createElement('div');\n",
              "          docLink.innerHTML = docLinkHtml;\n",
              "          element.appendChild(docLink);\n",
              "        }\n",
              "      </script>\n",
              "    </div>\n",
              "  </div>\n",
              "  "
            ]
          },
          "metadata": {},
          "execution_count": 6
        }
      ]
    },
    {
      "cell_type": "code",
      "source": [
        "# 5. 함수 만들기"
      ],
      "metadata": {
        "id": "bZ9Y0HKZj2R7"
      },
      "id": "bZ9Y0HKZj2R7",
      "execution_count": 7,
      "outputs": []
    },
    {
      "cell_type": "code",
      "source": [
        "## 피보나치 수열 출력 함수 예제 1\n",
        "\n",
        "def fib(n) :\n",
        "    a, b = 0, 1\n",
        "    while a < n :\n",
        "        print(a, end = ' ')\n",
        "        a, b = b, a+b\n",
        "fib(20)"
      ],
      "metadata": {
        "colab": {
          "base_uri": "https://localhost:8080/"
        },
        "id": "9Q-Q2Qz0j6Vi",
        "outputId": "26e32ee6-ed18-44ba-82c4-77955ff9a265"
      },
      "id": "9Q-Q2Qz0j6Vi",
      "execution_count": 8,
      "outputs": [
        {
          "output_type": "stream",
          "name": "stdout",
          "text": [
            "0 1 1 2 3 5 8 13 "
          ]
        }
      ]
    },
    {
      "cell_type": "code",
      "source": [
        "## 피보나치 수열 출력 함수 예제 1\n",
        "\n",
        "def fib(n) :\n",
        "    a, b = 0, 1\n",
        "    while a < n :\n",
        "        print(a, end = ' ')\n",
        "        a, b = b, a+b\n",
        "fib(20)"
      ],
      "metadata": {
        "colab": {
          "base_uri": "https://localhost:8080/"
        },
        "id": "DYvdz11oj80S",
        "outputId": "5f617f0a-2400-45ea-e3c3-cc197056590b"
      },
      "id": "DYvdz11oj80S",
      "execution_count": 9,
      "outputs": [
        {
          "output_type": "stream",
          "name": "stdout",
          "text": [
            "0 1 1 2 3 5 8 13 "
          ]
        }
      ]
    },
    {
      "cell_type": "code",
      "source": [
        "## map() function : list or tuple (map(function, 매개변수))\n",
        "\n",
        "int1 = [1,2,3,4]\n",
        "int2 = [5,6,7,8]\n",
        "list(map(lambda x,y : x+y, int1, int2))"
      ],
      "metadata": {
        "colab": {
          "base_uri": "https://localhost:8080/"
        },
        "id": "VDcYFrGwj-H3",
        "outputId": "95423fcf-0756-4f49-f4c6-e67071a9537e"
      },
      "id": "VDcYFrGwj-H3",
      "execution_count": 10,
      "outputs": [
        {
          "output_type": "execute_result",
          "data": {
            "text/plain": [
              "[6, 8, 10, 12]"
            ]
          },
          "metadata": {},
          "execution_count": 10
        }
      ]
    },
    {
      "cell_type": "code",
      "source": [
        "### 모듈 : 파이썬 정의를 파일에 넣고 스크립트나 인터프리터 대화형 모드에서 사용할 수 있는 파일"
      ],
      "metadata": {
        "id": "g7Ic_jAWj_kq"
      },
      "id": "g7Ic_jAWj_kq",
      "execution_count": 11,
      "outputs": []
    },
    {
      "cell_type": "code",
      "source": [
        "## 모듈 만들기\n",
        "\n",
        "# 정규분포와 감마분포 pdf 그리는 모듈\n",
        "# matplotlib.pyplot : 명령어 스타일로 동작하는 함수의 모음. 간편하게 그래프를 만들 수 있음\n",
        "\n",
        "def normplt(m,s) :\n",
        "    import numpy as np\n",
        "    import matplotlib.pyplot as plt\n",
        "    from scipy.stats import norm\n",
        "    x = np.array(m-3*s, m+3*s,0.1)\n",
        "    plt.plot(x,norm.pdf(x,m,s),'b')\n",
        "    plt.title(\"Normal(Mean = \" + str(m)+\",STD = \" + str(s) + \")PDF\")\n",
        "    plt.show()\n",
        "    \n",
        "def gamplt(a,b) :\n",
        "    import numpy as np\n",
        "    import matplotlib.pyplot as plt\n",
        "    from scipy.stats import gamma\n",
        "    x = np.arange(0,a*b + 6*a*b*b, 0.1)\n",
        "    plt.plot(x,gamma.pdf(x,a,b), 'b')\n",
        "    plt.title('Gamma(Alpha = ' + str(a) + ', Beta = ' + str(b) + ')PDF')\n",
        "    plt.show()"
      ],
      "metadata": {
        "id": "cyvuCNMckA2f"
      },
      "id": "cyvuCNMckA2f",
      "execution_count": 12,
      "outputs": []
    }
  ],
  "metadata": {
    "kernelspec": {
      "display_name": "Python 3 (ipykernel)",
      "language": "python",
      "name": "python3"
    },
    "language_info": {
      "codemirror_mode": {
        "name": "ipython",
        "version": 3
      },
      "file_extension": ".py",
      "mimetype": "text/x-python",
      "name": "python",
      "nbconvert_exporter": "python",
      "pygments_lexer": "ipython3",
      "version": "3.9.2"
    },
    "colab": {
      "name": "Chap 1",
      "provenance": [],
      "collapsed_sections": [],
      "include_colab_link": true
    }
  },
  "nbformat": 4,
  "nbformat_minor": 5
}